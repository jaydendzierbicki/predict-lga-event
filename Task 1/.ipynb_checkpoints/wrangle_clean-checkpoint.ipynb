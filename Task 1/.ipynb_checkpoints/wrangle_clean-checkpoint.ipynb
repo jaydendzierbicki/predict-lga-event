{
 "cells": [
  {
   "cell_type": "markdown",
   "id": "accee0d2",
   "metadata": {},
   "source": [
    "# Data Wrangle and Cleaning Script\n",
    "The purpose of this script is to clean and wrangle disaster data"
   ]
  }
 ],
 "metadata": {
  "kernelspec": {
   "display_name": "Python 3 (ipykernel)",
   "language": "python",
   "name": "python3"
  },
  "language_info": {
   "codemirror_mode": {
    "name": "ipython",
    "version": 3
   },
   "file_extension": ".py",
   "mimetype": "text/x-python",
   "name": "python",
   "nbconvert_exporter": "python",
   "pygments_lexer": "ipython3",
   "version": "3.9.7"
  }
 },
 "nbformat": 4,
 "nbformat_minor": 5
}
